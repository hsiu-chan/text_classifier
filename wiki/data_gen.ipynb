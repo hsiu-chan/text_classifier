{
 "cells": [
  {
   "cell_type": "code",
   "execution_count": 2,
   "metadata": {},
   "outputs": [],
   "source": [
    "# 將 training data 的 pickle 檔載入\n",
    "import pickle\n",
    "import pandas as pd\n",
    "from sklearn import preprocessing\n",
    "from sklearn.feature_extraction.text import TfidfVectorizer\n",
    "from sklearn.model_selection import cross_val_score\n",
    "import monpa as mp\n",
    "import numpy as np\n",
    "from tqdm import tqdm #進度條\n",
    "\n",
    "\n",
    "\n",
    "\n"
   ]
  },
  {
   "cell_type": "code",
   "execution_count": 3,
   "metadata": {},
   "outputs": [
    {
     "data": {
      "text/plain": [
       "[[2, 3], [4, 5], [6]]"
      ]
     },
     "execution_count": 3,
     "metadata": {},
     "output_type": "execute_result"
    }
   ],
   "source": [
    "def batch_cut(arr,n):\n",
    "    arr=np.array(arr)\n",
    "    l=len(arr)\n",
    "    if n>l:\n",
    "        return [arr]\n",
    "    result=[]\n",
    "    rg=[0,n]\n",
    "    while l>0:\n",
    "        result.append(list(arr[rg[0]:min(rg[1],len(arr))]))\n",
    "        l-=n\n",
    "        rg[0]+=n\n",
    "        rg[1]+=n\n",
    "    \n",
    "    return result\n",
    "\n",
    "\n",
    "def data_gen(cts):\n",
    "    tg=['Dfa','Dfb','Nv','VA','VAC','VB','VC','VCL','VD','VE','VF','VG','VH','VHC','VI','VJ','VK','VL','Na','A','Nc','Ncd','ORG','PER']\n",
    "    result=[]\n",
    "    psegs_ct=[]\n",
    "    bach_size=32\n",
    "    baches=batch_cut(cts,bach_size)\n",
    "    for bach in tqdm(baches):\n",
    "        #print(type(bach))\n",
    "        pseg_cts=mp.pseg_batch(bach)\n",
    "        for pseg_ct in pseg_cts:\n",
    "            chosen_words=[]\n",
    "            \n",
    "            for pseg in pseg_ct:\n",
    "                try:\n",
    "                    if pseg[1] in tg:\n",
    "                        chosen_words.append(pseg[0].strip())\n",
    "                except:\n",
    "                    print(pseg)\n",
    "            #print(chosen_words)\n",
    "            result.append(\" \".join(chosen_words))\n",
    "    return(result)\n",
    "\n",
    "\n",
    "a=[2,3,4,5,6]\n",
    "batch_cut(a,2)"
   ]
  },
  {
   "cell_type": "markdown",
   "metadata": {},
   "source": []
  },
  {
   "cell_type": "code",
   "execution_count": null,
   "metadata": {},
   "outputs": [],
   "source": [
    "train_df = pickle.load(open(\"./monpa_train.pickle\", \"rb\"))\n",
    "test_df = pickle.load(open(\"./monpa_test.pickle\", \"rb\"))\n",
    "contents = list(train_df[\"Content\"])\n",
    "contents2=data_gen(contents)\n",
    "test_id = list(test_df[\"ID\"])\n",
    "test_contents = list(test_df[\"Content\"])\n",
    "test_contents2 = data_gen(test_contents)"
   ]
  },
  {
   "cell_type": "code",
   "execution_count": null,
   "metadata": {},
   "outputs": [],
   "source": [
    "pd.DataFrame(contents2).to_csv(\"contents2.csv\")\n",
    "pd.DataFrame(test_contents2).to_csv(\"test_contents.csv\")\n"
   ]
  }
 ],
 "metadata": {
  "kernelspec": {
   "display_name": "Python 3",
   "language": "python",
   "name": "python3"
  },
  "language_info": {
   "codemirror_mode": {
    "name": "ipython",
    "version": 3
   },
   "file_extension": ".py",
   "mimetype": "text/x-python",
   "name": "python",
   "nbconvert_exporter": "python",
   "pygments_lexer": "ipython3",
   "version": "3.10.0 (tags/v3.10.0:b494f59, Oct  4 2021, 19:00:18) [MSC v.1929 64 bit (AMD64)]"
  },
  "orig_nbformat": 4,
  "vscode": {
   "interpreter": {
    "hash": "3688bbe5d71ec827a181cc1b6e9c5199ce963ff51a52c02cbea4adac451cd3ed"
   }
  }
 },
 "nbformat": 4,
 "nbformat_minor": 2
}
