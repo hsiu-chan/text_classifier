{
 "cells": [
  {
   "cell_type": "code",
   "execution_count": 68,
   "metadata": {},
   "outputs": [
    {
     "name": "stdout",
     "output_type": "stream",
     "text": [
      "GPU unavailable.\n"
     ]
    }
   ],
   "source": [
    "# 將 training data 的 pickle 檔載入\n",
    "import pickle\n",
    "import pandas as pd\n",
    "from sklearn import preprocessing\n",
    "from sklearn.feature_extraction.text import TfidfVectorizer\n",
    "from sklearn.model_selection import cross_val_score\n",
    "import monpa as mp\n",
    "import numpy as np\n",
    "from tqdm import tqdm #進度條\n",
    "mp.use_gpu(True)\n",
    "\n",
    "train_df = pickle.load(open(\"./monpa_train.pickle\", \"rb\"))\n",
    "test_df = pickle.load(open(\"./monpa_test.pickle\", \"rb\"))\n",
    "lables = list(train_df[\"Lable\"])\n",
    "le = preprocessing.LabelEncoder()\n",
    "le.fit([\"tech\", \"edu\", \"sports\", \"health\", \"travel\", \"politics\"])\n",
    "encoded_lable = le.transform(lables)\n",
    "\n"
   ]
  },
  {
   "attachments": {},
   "cell_type": "markdown",
   "metadata": {},
   "source": [
    "# 讀入data"
   ]
  },
  {
   "cell_type": "code",
   "execution_count": 72,
   "metadata": {},
   "outputs": [],
   "source": [
    "import csv\n",
    "contents2=[]\n",
    "test_contents2=[]\n",
    "# 開啟 CSV 檔案\n",
    "with open('contents2.csv',encoding='utf-8', newline='') as csvfile:\n",
    "  # 讀取 CSV 檔案內容\n",
    "  rows = csv.reader(csvfile)\n",
    "\n",
    "  for row in rows:\n",
    "    if row[0]:\n",
    "      contents2.append(row[1])\n",
    "\n",
    "with open('test_contents2.csv',encoding='utf-8', newline='') as csvfile:\n",
    "  # 讀取 CSV 檔案內容\n",
    "  rows = csv.reader(csvfile)\n",
    "\n",
    "  for row in rows:\n",
    "    if row[0]:\n",
    "      test_contents2.append(row[1])    \n",
    "\n",
    "contents3=[]\n",
    "for ct"
   ]
  },
  {
   "cell_type": "code",
   "execution_count": 115,
   "metadata": {},
   "outputs": [
    {
     "data": {
      "text/html": [
       "<style>#sk-container-id-3 {color: black;background-color: white;}#sk-container-id-3 pre{padding: 0;}#sk-container-id-3 div.sk-toggleable {background-color: white;}#sk-container-id-3 label.sk-toggleable__label {cursor: pointer;display: block;width: 100%;margin-bottom: 0;padding: 0.3em;box-sizing: border-box;text-align: center;}#sk-container-id-3 label.sk-toggleable__label-arrow:before {content: \"▸\";float: left;margin-right: 0.25em;color: #696969;}#sk-container-id-3 label.sk-toggleable__label-arrow:hover:before {color: black;}#sk-container-id-3 div.sk-estimator:hover label.sk-toggleable__label-arrow:before {color: black;}#sk-container-id-3 div.sk-toggleable__content {max-height: 0;max-width: 0;overflow: hidden;text-align: left;background-color: #f0f8ff;}#sk-container-id-3 div.sk-toggleable__content pre {margin: 0.2em;color: black;border-radius: 0.25em;background-color: #f0f8ff;}#sk-container-id-3 input.sk-toggleable__control:checked~div.sk-toggleable__content {max-height: 200px;max-width: 100%;overflow: auto;}#sk-container-id-3 input.sk-toggleable__control:checked~label.sk-toggleable__label-arrow:before {content: \"▾\";}#sk-container-id-3 div.sk-estimator input.sk-toggleable__control:checked~label.sk-toggleable__label {background-color: #d4ebff;}#sk-container-id-3 div.sk-label input.sk-toggleable__control:checked~label.sk-toggleable__label {background-color: #d4ebff;}#sk-container-id-3 input.sk-hidden--visually {border: 0;clip: rect(1px 1px 1px 1px);clip: rect(1px, 1px, 1px, 1px);height: 1px;margin: -1px;overflow: hidden;padding: 0;position: absolute;width: 1px;}#sk-container-id-3 div.sk-estimator {font-family: monospace;background-color: #f0f8ff;border: 1px dotted black;border-radius: 0.25em;box-sizing: border-box;margin-bottom: 0.5em;}#sk-container-id-3 div.sk-estimator:hover {background-color: #d4ebff;}#sk-container-id-3 div.sk-parallel-item::after {content: \"\";width: 100%;border-bottom: 1px solid gray;flex-grow: 1;}#sk-container-id-3 div.sk-label:hover label.sk-toggleable__label {background-color: #d4ebff;}#sk-container-id-3 div.sk-serial::before {content: \"\";position: absolute;border-left: 1px solid gray;box-sizing: border-box;top: 0;bottom: 0;left: 50%;z-index: 0;}#sk-container-id-3 div.sk-serial {display: flex;flex-direction: column;align-items: center;background-color: white;padding-right: 0.2em;padding-left: 0.2em;position: relative;}#sk-container-id-3 div.sk-item {position: relative;z-index: 1;}#sk-container-id-3 div.sk-parallel {display: flex;align-items: stretch;justify-content: center;background-color: white;position: relative;}#sk-container-id-3 div.sk-item::before, #sk-container-id-3 div.sk-parallel-item::before {content: \"\";position: absolute;border-left: 1px solid gray;box-sizing: border-box;top: 0;bottom: 0;left: 50%;z-index: -1;}#sk-container-id-3 div.sk-parallel-item {display: flex;flex-direction: column;z-index: 1;position: relative;background-color: white;}#sk-container-id-3 div.sk-parallel-item:first-child::after {align-self: flex-end;width: 50%;}#sk-container-id-3 div.sk-parallel-item:last-child::after {align-self: flex-start;width: 50%;}#sk-container-id-3 div.sk-parallel-item:only-child::after {width: 0;}#sk-container-id-3 div.sk-dashed-wrapped {border: 1px dashed gray;margin: 0 0.4em 0.5em 0.4em;box-sizing: border-box;padding-bottom: 0.4em;background-color: white;}#sk-container-id-3 div.sk-label label {font-family: monospace;font-weight: bold;display: inline-block;line-height: 1.2em;}#sk-container-id-3 div.sk-label-container {text-align: center;}#sk-container-id-3 div.sk-container {/* jupyter's `normalize.less` sets `[hidden] { display: none; }` but bootstrap.min.css set `[hidden] { display: none !important; }` so we also need the `!important` here to be able to override the default hidden behavior on the sphinx rendered scikit-learn.org. See: https://github.com/scikit-learn/scikit-learn/issues/21755 */display: inline-block !important;position: relative;}#sk-container-id-3 div.sk-text-repr-fallback {display: none;}</style><div id=\"sk-container-id-3\" class=\"sk-top-container\"><div class=\"sk-text-repr-fallback\"><pre>ComplementNB()</pre><b>In a Jupyter environment, please rerun this cell to show the HTML representation or trust the notebook. <br />On GitHub, the HTML representation is unable to render, please try loading this page with nbviewer.org.</b></div><div class=\"sk-container\" hidden><div class=\"sk-item\"><div class=\"sk-estimator sk-toggleable\"><input class=\"sk-toggleable__control sk-hidden--visually\" id=\"sk-estimator-id-3\" type=\"checkbox\" checked><label for=\"sk-estimator-id-3\" class=\"sk-toggleable__label sk-toggleable__label-arrow\">ComplementNB</label><div class=\"sk-toggleable__content\"><pre>ComplementNB()</pre></div></div></div></div></div>"
      ],
      "text/plain": [
       "ComplementNB()"
      ]
     },
     "execution_count": 115,
     "metadata": {},
     "output_type": "execute_result"
    }
   ],
   "source": [
    "\n",
    "# 對載入後的 training pickle 對模型進行訓練\n",
    "from sklearn.naive_bayes import ComplementNB, MultinomialNB # ComplementNB/MultinomialNB\n",
    "from sklearn.feature_extraction.text import TfidfVectorizer\n",
    "\n",
    "model = ComplementNB() # ComplementNB/MultinomialNB\n",
    "tfidf_vectorizer = TfidfVectorizer()\n",
    "model.fit(tfidf_vectorizer.fit_transform(contents2), \n",
    "         encoded_lable)"
   ]
  },
  {
   "cell_type": "code",
   "execution_count": 116,
   "metadata": {},
   "outputs": [],
   "source": [
    "# 對載入後的 test pickle 以訓練過之後的模型進行預測\n",
    "pred = model.predict(\n",
    "    tfidf_vectorizer.transform(test_contents))\n",
    "pred_label = list(le.inverse_transform(pred))\n",
    "#將標籤序列加入預測資料之後\n",
    "test_df = pickle.load(open(\"./monpa_test.pickle\", \"rb\"))\n",
    "test_df.insert(len(test_df.columns), \"Label\", pred_label)\n",
    "# 刪除不要的欄位並產生結果檔\n",
    "test_df = test_df.drop([\"Content\"], axis = 1)\n",
    "test_df.to_csv(\"submission.csv\", index = False)\n"
   ]
  },
  {
   "cell_type": "code",
   "execution_count": 122,
   "metadata": {},
   "outputs": [
    {
     "name": "stdout",
     "output_type": "stream",
     "text": [
      "2 travel edu\n",
      "[[2\n",
      "  '成龍 溼地 裝置 藝術   貼近 土地 生態 ( 影音 )       台灣 西南 沿海 地區 ， 因 養殖業 長期 抽取 地 下水 ， 導致 嚴重 地層 下陷 。 其中 雲林縣口湖鄉 成龍村 ， 因 民國 七十五年 的 韋恩 颱風 ， 造成 當地 海水 倒灌 ， 積水 不 退 至今 成為 一 塊 溼地 ， 最近 要 透過 來自 國外 的 藝術家 ， 利用 當地 的 素材 和 地方 志工 、 學生 ， 共同 完成 五 件 裝置 藝術 ， 除了 要 推廣 環境 保護 外 ， 也 要 設法 改善 地層 下陷 的 問題 。 這 ㄧ 大 片 溼地 ， 位在 雲林縣口湖鄉 成龍村 ， 面積 大約 有 100 公頃 ， 不過 它 形成']]\n",
      "24 politics edu\n",
      "[[24\n",
      "  '掏空 高球場     董座 自首 減刑       〔 自由時報 記者 蔡彰盛 ／ 竹市 報導 〕 前啟寶 開發 董事長 傅浩然 、 總經理 林德仁 在 未 收取 款項 及 利益 情況 下 ， 擅 自 將 啟寶 高爾夫 球場 經營權 移轉給 兩 人 另行 出資 設立 的 東方 日星 公司 ， 案經 傅浩然 向 檢方 自首 犯行 ， 全 案 昨天 由 新竹 地院 審結 ， 依 業務 侵占 罪判 傅浩然 徒刑 10月 、 減刑 為 5 月 ， 得 易科 罰金 ； 林德仁 徒刑 1 年 2月 ， 減刑 為 7月 。 判決書 指出 ， 被告 傅浩然 （ 52 歲 ） 、 林德仁 （ 57 歲 ） 等 人 於 86 年 簽訂 合資']]\n",
      "25 edu health\n",
      "[[25\n",
      "  '爆發 返鄉 潮   衍生 新 社會 問題   政府 照護 跳票   寧 回 老家 投親 靠友   清貧 過日     旺 報 【 記者 楊慈郁 ／ 綜合 報導 】 （ 文 接 C 2 版 ） 不 是 人人 都 能 適應 ， 在 外遷 的 三峽 移民 中 ， 也 有 部分 移民 受限 於 生活 條件 差異 ， 加上 留戀 家鄉 ， 最後 選擇 回到 接近 故土 的 地方 。 進入 「 後 移民 時期 」 ， 移民 「 返流 」 現象 逐漸 增多 ， 也 伴生 了 許多 新 的 社會 問題 。 今年 3月 ， 大陸 全 國 人大 代表 、 重慶市 副市長 譚棲偉 曾 透露 ， 據 估計 ， 外遷 移民 返流 和 遷移 回庫區 約 有 6000 人']]\n",
      "30 tech health\n",
      "[[30\n",
      "  '日 研發 女 機器人   仿 人 表情 會 生氣 微笑       日本 大阪大學 等 研究 機構 ， 昨天 公布 了 ， 一 個 有 表情 、 能 跟 人 互動 的 美女 機器人 ， 這 個 機器人 不僅 會 點頭 、 生氣 跟 微笑 ， 5月 開始 ， 它 也 將 出現 在 特定 的 大學 醫院 ， 陪伴 病患 看診 。 看起來 像是 雙胞胎 的 2 名 美女 ， 其實 其中 一 個 是 機器人 ， 機器人 外表 ， 模仿 這 位 20多 歲 的 女性 所 打造 ， 雖然 四肢 不能 動 ， 但是 臉部 、 眼睛 跟 嘴巴 ， 都 能夠 透過 個 人 電腦 控制 ， 傳神 地 做出 喜怒 哀樂 等 表情 。 預定 5月 上市 的 美女 機器']]\n",
      "37 health edu\n",
      "[[37\n",
      "  '世外 農園   鼓舞 肌萎 病友 走出來       〔 自由時報 記者 洪臣宏 ／ 高雄 報導 〕 「 汪爸 」 在 高雄市 大寮區 打造 無 障礙 農園 ， 不 定期 舉辦 肌肉 萎縮症 病友 聚會 ， 自己 的 2 個 小孩 也 是 病友 ， 他 總是 現身 說法 鼓勵 病友 、 家長 勇敢 走出 戶 外 ， 「 千萬 不 要 放棄 孩子 ！ 」 台88 快速 道路 高架 橋下 大寮段 有 塊 「 頂出 一 片 天 」 招牌 ， 順著 指標 走 ， 就 來到 病友 口 中 的 「 汪爸 」 、 中華民國 肌 萎縮症 病友 協會 常務 理事 汪良懋 的 農園 ， 這裡 是 肌 萎縮症 病友 、 家長 的 「 世外 桃源 」 ， 肌']]\n",
      "40 travel politics\n",
      "[[40\n",
      "  '陽明山 童軍 露營區 變更 草案       內政部 營建署 陽明山國家公園管理處 「 變更 陽明山 國家 公園 童軍 露營區 （ 遊 五 ） 細部 計畫 （ 第二 次 通盤 檢討 ） 案 」 規劃 草案 自 九十九年 五月 五日 起 公開 展覽 三十 日 。 陽明山 國家 公園 管理處 表示 ， 童軍 露營區 （ 遊五 ） 位於 本 處 遊客中心 北 側 ， 為 七十四年 公告 之 陽明 國家 公園 計畫 劃為 國家 公園 之 遊憩區 ， 並 於 八十一年 擬定 細部 環境 整建 計畫 、 八十七年 辦理 第一 次 通盤 檢討 。 本 次 陽管處 鑒於 陽明山 國家 公園 計畫 第二 次 通盤檢']]\n",
      "59 travel health\n",
      "[[59\n",
      "  '冰川 融化   瑞士 料 增 數十 座 湖   瑞士 專家 預測 ， 由於 冰川 持續 融化 ， 未來 幾十 年 內 ， 瑞士 將 出現 幾十 個 湖泊 。 瑞士 一 組 專家 ， 研究 氣候 變化 和 冰川 情況 後 ， 發表 報告 。 報告 指出 ， 隨著 瑞士 「 阿爾卑斯山 」 冰川 不斷 融化 ， 今後 幾十 年 ， 瑞士 將 出現 50 到 60 個 湖泊 ， 有 些 湖泊 可能 有 1百 公尺 深 。 報導 說 ， 從 壞 的 方面 想 ， 冰川 融化 後 ， 高山 峭壁 裸露 出來 ， 很 難 看 ， 等於 損失 觀光 景點 ， 山壁 也 容易 發生 土石流 ； 從好 的 方面 想 ， 瑞士 多 了 幾十 座 湖泊 ， 也 就 多 了']]\n",
      "60 travel tech\n",
      "[[60\n",
      "  '熱浪 襲 南澳     火車 停駛     墨爾本 交通 大亂       （ 中央社 記者 張之晴雪梨 11日 專電 ） 雖然 哥本哈根 氣候 變遷 會議 已經 落幕 ， 不過 全球 暖化 似乎 已經 是 個 揮之不去 的 夢靨 。 澳大利亞 南部 地區 連日 遭 熱浪 襲擊 ， 今天 墨爾本 更 有 部分 火車 班次 因 高溫 被迫 取消 。 今天 中午 ， 墨爾本 市區 的 氣溫 高達 攝氏 43 度 ， 鄰近 地區 更 一舉 衝上 45 度 大關 ， 導致 110 個 班次 的 火車 停駛 。 部分 地區 雖然 以 公車 取代 火車 服務 通勤 民眾 ， 但 在 上下班 的 尖峰 時刻 依然 顯得 捉襟']]\n",
      "71 travel health\n",
      "[[71\n",
      "  '阿里山 遊覽車 撞 山壁   6 陸客 受傷      最 新 消息 ， 阿里山 公路 發生 遊覽車 衝撞 山壁 的 車禍 意外 。 車 上載 的 是 來自 大陸 浙江 的 27 名 陸客 ， 在 下山途 中 ， 因為 煞車 失靈 ， 結果 衝撞 山壁卡 在 山溝 。 其中 有 六 名 陸客 傷勢 比較 嚴重 ， 被 緊急 送醫 。 阿里山 公路 的 意外 現場 ， 失控 的 遊覽車 ， 衝撞 到 山壁 後 ， 側 翻卡 在 山溝 內 ， 前面 的 擋風 玻璃 全破 了 。 從 車 上 逃出來 的 大 陸客 ， 很多 人 臉色 發白 ， 還 驚魂未定 。 有 人 手腳 擦傷 ， 還 有 10 歲 小 妹妹頭 被 撞到 ， 送上 救護車 時']]\n",
      "86 travel edu\n",
      "[[86\n",
      "  '火獅 燒化   左營 萬年季 閉幕       〔 自由時報 記者 侯承旭 ／ 高雄 報導 〕 為期 九 天 的 二○一○年 左營 萬年季 昨天 晚上 劃下 句點 ， 兩 尊 火獅 在 眾人 祈福 下 燒化 ， 象徵 人間 的 厄運 也 化為 煙霧 。 今年 的 左營 萬年季 進入 第十 年 ， 不料 九月 凡 那 比 颱風 過境 時 在 左營 地區 造成 水患 ， 原本 萬年季 一 度 打算 停辦 ， 所幸 災後 復原 進度 超乎 預期 ， 今年 的 萬年季 如期 舉辦 ， 並 首度 增加 一 頭 火獅 繞行 高雄縣 鳳山 ， 迎接 年底 的 高雄縣市 合併 。 昨天 傍晚 登場 的 是 敲鑼醒獅 踩街 行 ， 參與']]\n",
      "100 travel edu\n",
      "[[100\n",
      "  '苗 縣府 籲 員工 多 吃 蔬食   為 健康 存糧 、 為 地球 減碳       由 苗栗縣 農業處 主辦 的 有機 蔬食 品嚐會 ， 今天 中午 在 苗栗縣 政府 4樓 舉行 ， 20 余道 精美 蔬食 ， 藉著 食材 本身 的 鮮美 活力 以及 簡單 的 烹調 處理 ， 竟 讓 無肉 的 這 一 餐 吃來 備覺松爽 美味 ， 所有 品嚐 過 這 一 餐 的 縣府 員工 ， 都 不禁 豎起 大拇指 稱讚 ： 原來 用 「 吃 」 就 可以 幫助 地球 減碳 ， 而且 還 非常 好吃 ！ 苗栗縣 從 去年 開始 將 有機 生產 納入 縣府 的 旗鑑 計劃 ， 透過 多 種 獎勵 措施 ， 光 是 去年 一 年 就 為 苗栗縣 增加 3']]\n",
      "112 politics tech\n",
      "[[112\n",
      "  'CKYH 相 中 希臘 比雷埃夫斯港     中遠集團 與 陽明海運 、 川崎汽船 、 韓進 海運 三 家 公司 組成 的 CKYH 綠色聯盟 ， 擬 以 希臘 比雷埃夫斯港 作為 首選 歐洲 貨物 中 轉港 。 中遠集團 總裁 魏家福 為 推動 中遠 在 希臘 比雷埃夫斯港 碼頭 專營權 項目 ， 及 加深 與 希臘港口 和 海運界 的 合作 ， 於 日前 進行 為期四 日 希臘 之 旅 。 魏家福 與 希臘 經濟 競爭力 兼 海運部 部長 凱塞妮 會面 時 表示 ， 中遠 與 CKYH 綠色聯盟 合作 航商 擬 將 以 比雷埃夫斯港 作為 歐洲 航線 的 主要 中 轉港 ， 未來']]\n",
      "118 sports edu\n",
      "[[118\n",
      "  '勝求盃 少棒賽 明 開打   24 隊 競技       〔 記者 郭顏慧 ／ 北縣 報導 〕 第3 屆 勝求盃 全 國 少棒 邀請賽 ， 7日 起 一連 5 天 於 新莊 西盛棒 球場 開打 ， 比賽 期間 民眾 可 免費 入場 觀賞 球賽 。 即將 代表 台灣 參加 威廉波特 棒球賽 的 高雄市 復興 國小 棒球隊 也 在 參賽 隊伍 中 ， 歡迎 民眾 一起 到場 加油 。 新莊市 棒球 委員會 球賽 聯絡人 林振傑 說 ， 黃勝求 是 台灣 第一 代 棒球 名將 ， 畢生 致力 於 推廣 棒球 運動 ， 黃勝求 過世 後 ， 黃家 後代 每年 都 會選 在 父親節 當天 聚餐 緬懷 父親 ， 後來 黃勝']]\n",
      "126 travel health\n",
      "[[126\n",
      "  '公牛鯊 現身 車城 海域   遊客 留意     繼 去年 6 、 7月 之後 ， 屏東 車城 海域 又 出現 凶猛 的 公牛鯊 ， 漁民 是 在 近 海 的 定置網 漁場 內 發現 到 牠 ， 當 場 已經 奄奄一息 ， 懷疑 牠 是 誤闖 ， 漁民 花 了 九牛 二 虎 之 力 ， 才 把 牠 吊起來 ， 秤重 高達 339 公斤 ， 體型 非常 巨大 ， 由於 戲水 旺季 來臨 ， 也 呼籲 遊客 要 多 加 留意 海邊 安全 。 身長 3 公尺 、 體重 重達 339 公斤 的 公牛鯊 ， 緩緩 吊上岸 ， 張 著 血盆 大口 的 牠 已經 死亡 ， 為了 抓 牠 ， 漁場 工作 人員 可是 費 了 好 大 一 番 工夫 。 就 在 上']]\n",
      "133 travel edu\n",
      "[[133\n",
      "  '台灣 金聯 接管 老埤 農場   陳松柱 ： 與 高屏 鄉親 共創 多 贏       台灣 金聯公司 董事長 陳松柱 20日 在 接管 台鳳 老埤 農場 儀式 中 致詞 ， 感佩 屏東地方法院 展現 司法 正義 與 魄力 ， 他 保證 未來 必定 和 高屏 地區 鄉親 一起 為 促進 地方 經濟 繁榮 、 增加 就業 機會 而 共同 努力 ， 打造 高 產值 、 精緻 化 、 休閒 化 、 高 收益 的 綠色 農場 。 陳松柱 強調 ， 原有 合法 承租 農戶 及 農場 員工 權益 都 會 獲得 保障 ， 透過 大家 手 攜手 、 心連 心 ， 將 讓 老埤 農場 風華 再現 ， 而 高屏 地區 八八水災 受災戶 、']]\n",
      "136 tech politics\n",
      "[[136\n",
      "  '《 中石化 國賠案 》 學者 指證   官方 早知 污染 重       〔 記者 黃博郎 ／ 台南 報導 〕 中石化 污染 受害 民眾 聲請 國賠案 再度 開庭 ， 曾 參與 中石化 污染 調查 的 學者 宋德高 出面 指證 ， 中石化 民營化 之前 ， 環保署 和 中石化 就 發現 五氯酚 污染 ， 也 知道 戴奧辛 污染 程度 會 很 高 。 中石化公司 聲請 國賠案 ， 目前 共 有 216 位 居民 委由 律師 具狀 敘明 中石化 污染 事實 ， 並 強調 經濟部 、 中石化 和 台南市 政府 有 侵權 行為 、 違法 執行 公權力 及 怠於 執行 職務 ， 致 居民 長期 食用 當地 貯水池']]\n",
      "156 edu politics\n",
      "[[156\n",
      "  '花蓮 縣長 傅崐萁 大病初癒 籲 老師 重視 健康       花蓮縣 延後 教師 節表 揚 大會 ， 其實 與 縣長 傅?萁 的 身體 健康 有關 ， 9月 上旬 因 肛門 廔管 手術 住 院 的 傅 縣長 ， 取消 所有 公開 行程 ， 唯獨 教師 節表 揚 堅持 要 親自 參加 ， 今天 他 在 頒獎 典禮 上 也 呼籲 老師 們 一定 要 注重 身體 健康 ， 別 累壞 了 。 花蓮 縣長 傅?萁 站 在 頒獎台 上 ， 其實 不 難 發現 ， 身型 明顯 消瘦 ， 而 原本 有 力量 的 聲音 也 變 小聲 了 ， 一向 自 豪 身體 健康 不錯 的 他 這 次 差點 被 擊倒 ， 因為 暑假 期間 來回 跑 大陸 行銷 花蓮']]\n",
      "157 travel politics\n",
      "[[157\n",
      "  '申登 文化 聚落       台北 捷運環狀線 南 機廠 預定 地上 的 劉氏 宗祠 （ 圖 ） ， 具有 漢人 移民 台灣 開墾 的 人文 意義 ， 劉氏 後代 申請 登錄 為 十四 張 文化 聚落 ， 新北市府 13 日 前往 會勘 。 中央社 記者 黃旭昇 新北市 攝               100年 6月 13日 20110613 _ 4605494 . >']]\n",
      "164 travel health\n",
      "[[164\n",
      "  '6 元 包子 夯 ！ 10 年 不 漲   日售 5千 個     一般 攤販 賣 的 肉包 ， 甚至 是 便利商店 的 肉包 ， 一 顆 10 、 20 元 跑 不 掉 ， 但 在 花蓮 一 家 包子店 ， 不但 一 個 包子 只 賣 6 元 ， 還 這樣 賣 了 10 年 ， 都 沒 有 漲價 。 業者 一 天 可以 賣到 5千 個 肉包 ， 口味 多達 20幾 種 ， 有 德式 熱狗 捲 口味 ， 也 有 起士 培根 等 新 口味 。 店家 不但 用 低價 ， 更 要 用 不斷 推出 的 新 吃法 ， 留住 客人 。 剛 出爐 的 刈包 ， 2 、 3 個 疊 在 一 起 ， 裝進 透明 包裝袋 ， 工作 人員 的 手 忙不停 ， 因為 旁邊 還 有 堆積如山']]\n",
      "166 tech politics\n",
      "[[166\n",
      "  'Google 新 隱私法   美歐 要求 延後 實施   （ 法新社 華盛頓 29 日 電 ）      歐洲 和 美國 消費者保護組織 今天 發動 最後 一 搏 ， 要 Google公司 延後 隱私權 政策 異動 。     Google 將 在 明天 採行 新 隱私權 條款 。 由 美歐 兩地 消費者 保護組織 所 組成 的 跨大 西洋 消費者 對話 （ TACD ） 致函 給 Google 執行長 佩吉 （ Larry Page ） ， 敦促 Google 延後 實施 更新 。     信 中 提到 ： 「 美國 議員 、 各州 檢察長 、 歐洲 議員 和 隱私']]\n",
      "172 travel tech\n",
      "[[172\n",
      "  '泰姬 瑪哈陵   5 年 內 恐 塌   北印度 矗立 358 年   濫墾 侵 地基       印度 【 蔡佳慧 ╱ 綜合 外電 報導 】 印度 最 負 盛名 的 文化 遺產 「 泰姬 瑪哈陵 」 ， 現 傳出 地基 因 缺水 而 腐朽 、 易碎 ， 倘若 再 不 改善 ， 恐 怕 將 在 5 年 之內 坍塌 。 專家 指稱 ， 這 是 因 供應 地基 水井 水源 的 河川 ， 近年 在 污染 、 工業 發展 和 森林 濫墾 下 逐漸 乾涸 ， 呼籲 印度 政府 迅速 出手 預防 「 迫近 的 危機 」 。 以 潔白 大理石 打造 的 泰姬瑪哈陵 （ Taj  Mahal ） ， 過去 358 年 來 安靜 佇立 在 印度 北方 阿']]\n",
      "176 travel health\n",
      "[[176\n",
      "  '無聲 的 小 動物   台灣 野兔 生存 遭 威脅     兔年 來到 ， 到處 都 能 看到 可愛 的 兔子 造型 ， 但是 在 台灣 的 野兔 卻 很少 人 關心 ， 他們 生活 在 低 海拔 的 草原 ， 行動 迅速 ， 想 要 在 白天 看到 牠們 是 難 上 加 難 ， 經常 會 被 人們 忽視 牠 的 存在 。 努力 地 呼吸 新鮮 氧氣 ， 這 隻 小 兔子 被 民眾 送來 特生中心 的 時候 ， 已經 奄奄一息 ， 獸醫 設法 和 死神 拔河 。 這 隻 泥 土色 小 幼兔 是 台灣 野生 兔子 ， 動作 敏捷 的 牠們 ， 想要 在 野地 看到 並 不 容易 ， 但 隨著 人類 的 密集 開發    讓 野兔 的 自然 棲地 變']]\n",
      "197 travel tech\n",
      "[[197\n",
      "  '1 年 水位 降 1 公尺   死海 50 年 後 消失       中東 著名 觀光 景點 - 死海 ， 今天 氣溫飆 升到 51.4 度 ， 相當 驚人 ， 天氣 這麼 熱 ， 也 加速 死 海 的 蒸發 速度 ； 過去 死海 周邊 因為 人類 過渡 開發 ， 導致 水位 每 年 以 1 公尺 的 驚人 速度 ， 不斷 往 下降 ， 專家 甚至 警告 ， 按照 這 個 速度 ， 50 年 後 ， 死海 恐怕 會 從 地球 上 消失 ， 約旦 政府 擬定 一 項 「 搬運 海水 」 的 大 工程 ， 要 打造 一 條 長 300 公里 的 輸 水管 ， 引 紅海 的 水 來 搶救 死海 。 位在 約旦 和 以色列 交界 的 死海 ， 大家 對 它 的']]\n",
      "213 travel tech\n",
      "[[213\n",
      "  '護家園  玻利維亞 訴求 氣候 正義     【 編譯 魏世昌 整理 報導 】 在 氣候 變遷 影響 下 ， 玻利維亞 的 冰河 持續 消退 ， 生態 因而 遭受 嚴重 衝擊 。 根據 《 英國 廣播 公司 》 報導 ， 對 南美洲 印加 與 安地斯 文明 來 說 ， 終年 覆蓋 白雪 的 高山 因為 富含 水源 ， 被 當地人 視為 尊崇 的 神祇 。 但 現在 神明 正 逐漸 失去 力量 。 研究員 指出 ， 由於 溫度 持續 上升 ， 安地斯 山脈 的 冰河 正 面臨 劇烈 消退 。 富國 排碳   窮國 受害 壯闊 大山伊雅曼尼 （ Illimani ） 山腳 的 一 個 小村卡皮 （ Kha']]\n",
      "214 travel edu\n",
      "[[214\n",
      "  '淨山 費力   合歡山 賞 雪 勿 丟 垃圾       〔 自由時報 記者 游太郎 ／ 花蓮 報導 〕 每 年 合歡山 雪季 過後 ， 山坡 及 山溝 常 佈滿 大 批 垃圾 ， 對 山區 的 環境 生態 ， 造成 重大 的 影響 和 危害 ， 太魯閣 國家 公園 管理處 趕 在 雪季 前 ， 連 日 來 完成 第五 次 的 淨山 ， 希望 讓 遊客 有 一 個 乾淨 的 賞雪 環境 ， 呼籲 不要 亂丟 垃圾 ， 免 得 增加 明年 淨山 難度 。 太管處 合歡山 管理站 主任 郭傳鎮 指出 ， 太管處 連日 來 已 完成 第五 次 淨山 活動 ， 全 年 共計 辦理 五 次 淨山 ， 動員 四百零八 人次 ， 清理 範圍 包括']]\n",
      "222 politics edu\n",
      "[[222\n",
      "  '郵差 勞逸 不均   新人 鳴不平       〔 自由時報 記者 湯世名 ／ 彰化 報導 〕 一 名 中華郵政 彰化郵局 新進 郵差 向 本報 爆料 指出 ， 他 的 部門 有 十多 位 郵差 都 有 「 背景 」 ， 以致於 被 分配 到 的 送信 區域 相當 輕鬆 ， 不 到 中午 就 溜班 回家 休息 ， 睡到 下午 三點 再 上班 ， 聽說 台中市 的 郵政 單位 也 有 這 種 情形 ， 為此 ， 已 有 不少 郵差 醞釀 集體 連署 陳情 抗議 。 這 位 署名 「 郵局 的 黑幕 跟 改革 」 的 郵差 向 本 報 爆料 指出 ， 他 於 去年 六月 到 彰化市中央路 的 彰化 郵局 擔任 郵差 ， 結果 數月 以來']]\n",
      "231 politics edu\n",
      "[[231\n",
      "  '上班 兼 差   MSN 傳檔 被 炒 魷魚       〔 記者 鄭淑婷 ／ 台北 報導 〕 上班族 兼 差 賺 外快 ， 透過 MSN 傳檔 成 了 證據 ， 被 老闆 炒 魷魚 並 求償 40萬 元 ， 前 員工 付 了 10萬 元 後 拒付 被告 上 法院 ， 板橋 地方 法院 審理 終結 ， 認為 必須 付 清剩餘 的 30萬 元 。 在 台北市 一 家 資訊 顧問 公司 負責 網站 製作 的 王姓 男子 ， 被 李姓 老闆 指控 上班 時間 私 接 個案 賺 外 快 ， 後來 在 王某 MSN 紀錄 裡 發現 傳檔 、 對話 等 證據 ， 將 他 炒 魷魚 ， 雙方 簽下 賠償 切結書 ， 王某 只 付 了 10萬 就 沒 下 文']]\n",
      "235 travel edu\n",
      "[[235\n",
      "  '深層 海水 產品 試吃       台東縣政府 推動 深層 海水 產業 園區 發展 ， 希望 吸引 民間 投資 開發 ， 將 於 今天 起 一連 3 天 ， 在 台東市 南京路 廣場 舉辦 「 深層 海水 產業 宣導 暨 在地 產業 技術 輔導 成果 展示 及 展售 」 活動 ， 以 產品 成果 公開 展示 、 體驗 、 試吃 為 主軸 ， 歡迎 民眾 參與 。   （ 記者 張存薇 ）']]\n",
      "236 travel edu\n",
      "[[236\n",
      "  '台灣 燈會   明年 移 師 鹿港 小鎮     （ 中央社 記者 陳舜協 台北 21 日 電 ） 建國 百 年 台灣 燈會 還 在 苗栗 盛大 展開 ， 明年 燈會 主辦 縣市 就 已 出爐 。 交通部觀光局 今晚 表示 ， 有 7 縣市 爭取 明年 台灣 燈會 主辦權 ， 彰化縣 鹿港 小鎮 民俗 特色 濃厚 ， 獲得 青睞 出線 。 台灣 燈會 能 吸引 龐大 觀光 人潮 ， 帶動 地方 經濟 發展 ， 不少 縣市 政府 早早 就 提出 計畫 爭取 ， 今年 共有 基隆市 、 桃園縣 、 新竹縣 、 新竹市 、 南投縣 、 彰化縣 及 雲林縣 7 個 縣市 角逐 民國 101年 台灣 燈會 主辦 權 。']]\n",
      "239 sports edu\n",
      "[[239\n",
      "  '春季 路跑 開賽   市長 要 變 全民 運動       〔 自由時報 記者 王俊忠 ／ 台南 報導 〕 台南市 二○一一年 春季 路跑賽 昨天 清晨 開跑 ， 三千多 人 參加 ， 市長 賴清德 表示 ， 未來 每年 將 辦 春 、 秋季 、 馬拉松 等 常態性 路跑賽 ， 讓 路跑 成為 全民 運動 。 昨天 清晨 六點 不 到 ， 永華市政中心 西側 廣場 集結 三千三百多 位 參加 十．四 公里 競賽組 與 三．五 公里 健康 休閒組 的 選手 ， 市長 賴清德 、 副秘書長 黃永泰 、 教育局長 鄭邦鎮 、 體育處長 莊燕如 等人 陸續 為 各 組 選手 鳴槍 起跑 。 競賽組 一']]\n",
      "254 edu tech\n",
      "[[254\n",
      "  '台北 漢字節   烘托 兩岸 文化 熱      旺報 【 記者 吳靖雯 ／ 台北 報導 】 第七 屆 台北 漢字 文化節 」 系列 活動 開跑 ！ 在 昨日 啟動 記者會 上 ， 台北 曲藝團 以 詼諧 相聲 開場 ， 書法 名家 蔡明讚 現場 揮毫 「 兔年 」 二 字 ， 還 有 魔術獎 得主 李佳峰 表演 漢字 魔術秀 。 今年 台北 市政府文化局 共 推出 27 項 活動 ， 要 讓 民眾 「 五感 體驗 」 漢字 多元 魅力 。 近年 來 東亞 各 地 掀起 漢字 熱潮 ， 台灣 、 大陸 、 日本 都 有 票選 年度 漢字 之 舉 ， 相關 衍生 活動 不勝枚舉 。 台北市 文化 局長 謝小韞 表示 ，']]\n"
     ]
    }
   ],
   "source": [
    "def read_csv(path):\n",
    "  result=[]\n",
    "  with open(path,encoding='utf-8', newline='') as csvfile:\n",
    "  # 讀取 CSV 檔案內容\n",
    "    rows = csv.reader(csvfile)\n",
    "    for row in rows:\n",
    "      if row[0]:\n",
    "        result.append(row)  \n",
    "  return np.array(result)\n",
    "test_df = pickle.load(open(\"./monpa_test.pickle\", \"rb\"))\n",
    "\n",
    "old=read_csv('submission0.csv')\n",
    "new=read_csv('bbbbbbbbbb.csv')\n",
    "\n",
    "compare=zip(old,new)\n",
    "i=0\n",
    "for p in compare:\n",
    "    if i>30:\n",
    "      break\n",
    "    if p[0][1]!=p[1][1]:\n",
    "      print(p[0][0]+' '+p[0][1]+' '+p[1][1])\n",
    "      print(np.array(test_df[test_df['ID']==int(p[0][0])]))\n",
    "      i+=1\n",
    "    \n"
   ]
  },
  {
   "cell_type": "code",
   "execution_count": 119,
   "metadata": {},
   "outputs": [
    {
     "name": "stdout",
     "output_type": "stream",
     "text": [
      "[[10\n",
      "  '華碩 奪下 日本 超薄 筆電 第一 品牌   ( 中央社 記者 羅秀文 台北 14 日 電 ) 華碩 今天 宣布 奪下 日本 Ultrabook 第一 品牌 ； 與 Google 合作 的 Nexus   7 ， 也 以 37.1 % 的 市占率 ， 勇奪 日本 Android 平板 銷售 冠軍 。   華碩 「 追尋 無與 倫比 」 的 品牌 精神 持續 發酵 ， ZENBOOK 去年 第4季 推出 以來 ， 銷售 佳績 頻傳 。 今天 再 宣布 勇奪 日本 市場 Android 平板 及 Ultrabook 銷售 冠軍 ， 並 抱回 23 座 日本 Good  Desi']]\n"
     ]
    }
   ],
   "source": [
    "print(np.array(test_df[test_df['ID']==10]))"
   ]
  },
  {
   "cell_type": "code",
   "execution_count": null,
   "metadata": {},
   "outputs": [],
   "source": []
  }
 ],
 "metadata": {
  "kernelspec": {
   "display_name": "Python 3",
   "language": "python",
   "name": "python3"
  },
  "language_info": {
   "codemirror_mode": {
    "name": "ipython",
    "version": 3
   },
   "file_extension": ".py",
   "mimetype": "text/x-python",
   "name": "python",
   "nbconvert_exporter": "python",
   "pygments_lexer": "ipython3",
   "version": "3.10.0 (tags/v3.10.0:b494f59, Oct  4 2021, 19:00:18) [MSC v.1929 64 bit (AMD64)]"
  },
  "orig_nbformat": 4,
  "vscode": {
   "interpreter": {
    "hash": "3688bbe5d71ec827a181cc1b6e9c5199ce963ff51a52c02cbea4adac451cd3ed"
   }
  }
 },
 "nbformat": 4,
 "nbformat_minor": 2
}
