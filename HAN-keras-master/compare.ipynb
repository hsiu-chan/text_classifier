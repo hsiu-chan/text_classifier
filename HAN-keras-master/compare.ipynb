{
 "cells": [
  {
   "cell_type": "code",
   "execution_count": 31,
   "metadata": {},
   "outputs": [],
   "source": [
    "import pandas as pd\n",
    "import numpy as np\n",
    "import random as rd\n",
    "import pickle\n",
    "\n",
    "csv_path1='submission.csv'\n",
    "csv_path2='submission0.csv'\n",
    "\n",
    "pred1=np.array(pd.read_csv(csv_path1))[:,1]\n",
    "pred2=np.array(pd.read_csv(csv_path2))[:,1]\n",
    "idx=range(len(pred1))\n",
    "\n",
    "test_data = np.array(pickle.load(open(\"./monpa_test.pickle\", \"rb\"))['Content'])\n"
   ]
  },
  {
   "cell_type": "code",
   "execution_count": 29,
   "metadata": {},
   "outputs": [],
   "source": [
    "zipped=zip(idx,pred1,pred2)\n",
    "zipped=np.array(list(zipped))\n",
    "dif=[]\n",
    "for rt in zipped:\n",
    "    if rt[1]!=rt[2]:\n",
    "        dif.append(rt)"
   ]
  },
  {
   "cell_type": "code",
   "execution_count": 45,
   "metadata": {},
   "outputs": [
    {
     "name": "stdout",
     "output_type": "stream",
     "text": [
      "idx new old\n",
      "['17822' 'health' 'travel']\n",
      "3月 罕見 低溫   北京 下 「 中雪 」 交通 亂       雖然 現在 已經 是 3月 ， 農曆節 氣 上 都 已經 進入 春天 ， 不過 ， 北京 今天 的 氣溫 不僅 零 度 以下 ， 從 昨天 半夜 還 開始 下雪 ， 到 今天 上午 積起 一 片 白雪 ， 是 北京 10 年 來 ， 罕見 3月 還 下 到 中雪 的 程度 ， 因此 ， 也 影響到 了 陸空 交通 。 厚厚 的 白雪 覆蓋 ， 將 北京 的 什 剎海 妝點 的 像 銀白 世界 ， 很多 民眾 穿著 羽絨衣 ， 圍巾 、 手套 也 不 離身 ， 雖然 天氣 真的 很 冷 ， 不過 難得 的 3月 雪景 ， 說 什麼 都 要 拍 張 照片 紀念 一下 ， 北京 10年 來\n"
     ]
    }
   ],
   "source": [
    "r=rd.choice(dif)\n",
    "print('idx new old')\n",
    "print(r)\n",
    "print(test_data[int(r[0])])\n"
   ]
  },
  {
   "cell_type": "code",
   "execution_count": null,
   "metadata": {},
   "outputs": [],
   "source": []
  },
  {
   "cell_type": "code",
   "execution_count": null,
   "metadata": {},
   "outputs": [],
   "source": []
  }
 ],
 "metadata": {
  "kernelspec": {
   "display_name": "Python 3",
   "language": "python",
   "name": "python3"
  },
  "language_info": {
   "codemirror_mode": {
    "name": "ipython",
    "version": 3
   },
   "file_extension": ".py",
   "mimetype": "text/x-python",
   "name": "python",
   "nbconvert_exporter": "python",
   "pygments_lexer": "ipython3",
   "version": "3.10.0"
  },
  "orig_nbformat": 4,
  "vscode": {
   "interpreter": {
    "hash": "3688bbe5d71ec827a181cc1b6e9c5199ce963ff51a52c02cbea4adac451cd3ed"
   }
  }
 },
 "nbformat": 4,
 "nbformat_minor": 2
}
